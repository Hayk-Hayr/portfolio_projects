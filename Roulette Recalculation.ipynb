{
 "cells": [
  {
   "cell_type": "code",
   "execution_count": 4,
   "id": "2033e4af-a37e-4e49-bfc7-f5ddcec5c348",
   "metadata": {},
   "outputs": [
    {
     "name": "stdin",
     "output_type": "stream",
     "text": [
      "Enter the winning number:  0\n",
      "Enter the Aurum odds:  0\n"
     ]
    }
   ],
   "source": [
    "import os\n",
    "import pandas as pd\n",
    "import numpy as np\n",
    "\n",
    "win_num = input(\"Enter the winning number: \")\n",
    "aurum_odds = input(\"Enter the Aurum odds: \")\n",
    "\n",
    "user = os.getlogin()\n",
    "path = fr\"C:\\Users\\{user}\\Desktop\\Bet Selection History.xlsx\"\n",
    "pd.set_option('display.max_columns', 47)\n",
    "df = pd.read_excel(path)\n",
    "\n",
    "df.drop(['Game', 'Unnamed: 2', 'Table', 'Unnamed: 5', 'Unnamed: 13', 'Unnamed: 16', 'Unnamed: 22', 'Unnamed: 27', 'Unnamed: 36', 'ParentTable', 'Unnamed: 39', 'Unnamed: 40', 'Dealer', 'Unnamed: 42', 'Unnamed: 43', 'Step Id', 'Is Test', 'Group Id'], axis = 1, inplace = True)\n",
    "\n",
    "df.columns = ['ID', 'Game', 'Table', 'Round ID', 'Client AGP ID', 'Client NickName', 'Bet EUR', 'Profit EUR', 'Selection ID', 'Selection', 'SelectionDetail ID', 'SelectionDetail', 'Selection Values', 'Odds', 'Bet Date', 'SelectionWinState ID', 'SelectionWinState', 'Bet Amount', 'Win Amount', 'Partner ID', 'Partner', 'Profit', 'Client SMT ID', 'Client External ID', 'Currency', 'Bet Id', 'Win EUR', 'Mode ID', 'Mode']\n",
    "\n",
    "df.drop(index = 0, inplace = True)\n",
    "\n",
    "odds = pd.read_csv(fr\"C:\\Users\\{user}\\Desktop\\Roulette Odds.csv\")\n",
    "\n",
    "win_num_properties = odds[(odds['Coverted Selection Value Code'] == win_num) & (odds['Selection Code'] == 28)]\n",
    "\n",
    "win_color = str(win_num_properties['Colour'].iloc[0]).rstrip('0').rstrip('.') if not win_num_properties['Colour'].empty else ''\n",
    "win_even_odd = str(win_num_properties[r'Even/Odd'].iloc[0]).rstrip('0').rstrip('.') if not win_num_properties[r'Even/Odd'].empty else ''\n",
    "win_high_low = str(win_num_properties[r'High/Low'].iloc[0]).rstrip('0').rstrip('.') if not win_num_properties[r'High/Low'].empty else ''\n",
    "win_column = str(win_num_properties['Column'].iloc[0]).rstrip('0').rstrip('.') if not win_num_properties['Column'].empty else ''\n",
    "win_dozen = str(win_num_properties['Dozen'].iloc[0]).rstrip('0').rstrip('.') if not win_num_properties['Dozen'].empty else ''\n",
    "\n",
    "df['Search Selection Values'] = \",\" + df['Selection Values'] + \",\"\n",
    "\n",
    "df['SelectionDetail ID'] = df['SelectionDetail ID'].astype(str)\n",
    "df['Selection ID'] = df['Selection ID'].astype(str)\n",
    "df['Search Selection Values'] = df['Search Selection Values'].astype(str)\n",
    "\n",
    "df['Correct Result'] = np.where(\n",
    "    ((df['SelectionDetail ID']).isin([win_color, win_even_odd,  win_high_low,  win_column, win_dozen])) |\n",
    "    ((df['Selection ID'] == '28') & (df['Selection Values'] == win_num)) |\n",
    "    ((df['Selection ID'] == '37') & (aurum_odds == '0') & (df['Selection Values'] == win_num)) |\n",
    "    ((df['Selection ID'].isin(['29', '30', '31', '32']) & df['Search Selection Values'].str.contains(',' + win_num + ','))),\n",
    "    df['Bet Amount'] * df['Odds'],\n",
    "    np.where(\n",
    "        ((df['Selection ID'] == '37') & (aurum_odds != '0') & (df['Selection Values'] == win_num)),\n",
    "    df['Bet Amount'] * int(aurum_odds),\n",
    "    0\n",
    "    )\n",
    ")\n",
    "\n",
    "df['Correction Amount'] = df['Correct Result'] - df['Win Amount'] \n",
    "\n",
    "df_grouped = df.groupby(['Partner', 'Client AGP ID','Bet Date','Bet Id', 'Game', 'Table', 'Round ID', 'Currency'])[['Bet Amount', 'Bet EUR', 'Win Amount', 'Correct Result', 'Correction Amount']].sum().reset_index()\n",
    "\n",
    "df_result = df_grouped[df_grouped['Correction Amount'] != 0].sort_values(by = ['Partner', 'Client AGP ID'])\n",
    "\n",
    "df_result.to_excel(fr\"C:\\Users\\{user}\\Desktop\\Round_Recalculated.xlsx\", index = False)"
   ]
  },
  {
   "cell_type": "code",
   "execution_count": null,
   "id": "170325f2-ff9d-4d06-bbf2-0a3371071274",
   "metadata": {},
   "outputs": [],
   "source": []
  }
 ],
 "metadata": {
  "kernelspec": {
   "display_name": "Python 3 (ipykernel)",
   "language": "python",
   "name": "python3"
  },
  "language_info": {
   "codemirror_mode": {
    "name": "ipython",
    "version": 3
   },
   "file_extension": ".py",
   "mimetype": "text/x-python",
   "name": "python",
   "nbconvert_exporter": "python",
   "pygments_lexer": "ipython3",
   "version": "3.11.4"
  }
 },
 "nbformat": 4,
 "nbformat_minor": 5
}
